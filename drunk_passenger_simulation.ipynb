{
 "cells": [
  {
   "cell_type": "code",
   "execution_count": 10,
   "metadata": {},
   "outputs": [],
   "source": [
    "import random\n",
    "\n",
    "def randint_exclude(start, end, exclude_list):\n",
    "    running = True\n",
    "    while running:\n",
    "        a = random.randint(start, end - 1)\n",
    "        if a not in exclude_list:\n",
    "            running = False\n",
    "            return a"
   ]
  },
  {
   "cell_type": "code",
   "execution_count": 189,
   "metadata": {},
   "outputs": [
    {
     "data": {
      "text/plain": [
       "0.7164"
      ]
     },
     "execution_count": 189,
     "metadata": {},
     "output_type": "execute_result"
    }
   ],
   "source": [
    "def drunk_simul(n_ppl=10, n_simul=10000):\n",
    "    lucky_for_last_guy = 0\n",
    "    exclude_list = []\n",
    "\n",
    "    for _ in range(n_simul):\n",
    "        # Let's say the first drunken guy already got in and there's n-1 seats.\n",
    "        available_seats = list(range(n_ppl))\n",
    "        r1 = random.choice(available_seats)\n",
    "        available_seats.remove(r1)\n",
    "\n",
    "        passengers = list(range(n_ppl))\n",
    "        r2 = random.choice(passengers)\n",
    "        passengers.remove(r2)\n",
    "        random.shuffle(passengers)  # Further shuffle the passenger list\n",
    "\n",
    "        for passenger in passengers:\n",
    "            if passenger == n_ppl-1 and n_ppl-1 in available_seats:\n",
    "                lucky_for_last_guy += 1  # Hooray!\n",
    "                break\n",
    "            else:\n",
    "                # this passenger is not the last guy (n-1), but this guy's seat is not taken by some dude\n",
    "                if passenger in available_seats:\n",
    "                    available_seats.remove(passenger)\n",
    "                # And this is the case this guy's seat was taken. Here comes chaos...\n",
    "                else:\n",
    "                    new_seat = randint_exclude(0, n_ppl-1, passenger)\n",
    "                    while new_seat not in available_seats:\n",
    "                        new_seat = randint_exclude(0, n_ppl-1, passenger)\n",
    "                    available_seats.remove(new_seat)\n",
    "\n",
    "                exclude_list.append(passenger)\n",
    "\n",
    "                if len(available_seats) == 1:\n",
    "                    # Okay. last guy couldn't get his seat.\n",
    "                    break\n",
    "\n",
    "\n",
    "    prob_lucky_over_simul = lucky_for_last_guy / n_simul\n",
    "    return prob_lucky_over_simul\n",
    "\n",
    "\n",
    "a = drunk_simul()\n",
    "a"
   ]
  }
 ],
 "metadata": {
  "kernelspec": {
   "display_name": "Python 3",
   "language": "python",
   "name": "python3"
  },
  "language_info": {
   "codemirror_mode": {
    "name": "ipython",
    "version": 3
   },
   "file_extension": ".py",
   "mimetype": "text/x-python",
   "name": "python",
   "nbconvert_exporter": "python",
   "pygments_lexer": "ipython3",
   "version": "3.11.7"
  }
 },
 "nbformat": 4,
 "nbformat_minor": 2
}
